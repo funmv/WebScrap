{
 "cells": [
  {
   "cell_type": "markdown",
   "metadata": {},
   "source": [
    "#### Web Scraping with Python\n",
    "  \n",
    "(출처) 한빛 미디어, 파이썬으로 웹 크롤러 만들기    \n",
    "(위치) /Users/funmv_mac/dev/webscrapingbook_test.ipynb    \n",
    "(내용) 북의 1, 2장에 대한 간략한 설명과 테스트  \n",
    "(날짜) 2016년 12월 5일  \n",
    "(작성) by funmv"
   ]
  },
  {
   "cell_type": "code",
   "execution_count": 210,
   "metadata": {
    "collapsed": true
   },
   "outputs": [],
   "source": [
    "# -*- coding: utf-8 -*-\n",
    "import urllib\n",
    "from StringIO import StringIO\n",
    "from bs4 import BeautifulSoup"
   ]
  },
  {
   "cell_type": "markdown",
   "metadata": {},
   "source": [
    "http://www.pythonscraping.com/pages/page3.html  \n",
    "테스트를 위해 저자가 만들어 놓은 사이트이다   \n",
    "이 site의 내용을 긁어온 전문 html은 아래에 있다  "
   ]
  },
  {
   "cell_type": "code",
   "execution_count": 147,
   "metadata": {
    "collapsed": false
   },
   "outputs": [],
   "source": [
    "html = urllib.urlopen('http://www.pythonscraping.com/pages/page3.html')   \n",
    "bsobj = BeautifulSoup(html, 'html.parser')   "
   ]
  },
  {
   "cell_type": "markdown",
   "metadata": {},
   "source": [
    "find는 (바로 아래) 자식만 긁어오고 findAll은 자손(child of child)을 긁어온다  \n",
    "find나 findAll의 결과는 모두 ResultSet이라는 Tag들의 리스트이다  \n",
    "children은 자식만 가져온다  "
   ]
  },
  {
   "cell_type": "code",
   "execution_count": 130,
   "metadata": {
    "collapsed": false
   },
   "outputs": [
    {
     "name": "stdout",
     "output_type": "stream",
     "text": [
      "\n",
      "\n",
      "<tr><th>\n",
      "Item Title\n",
      "</th><th>\n",
      "Description\n",
      "</th><th>\n",
      "Cost\n",
      "</th><th>\n",
      "Image\n",
      "</th></tr>\n",
      "\n",
      "\n",
      "<tr class=\"gift\" id=\"gift1\"><td>\n",
      "Vegetable Basket\n",
      "</td><td>\n",
      "This vegetable basket is the perfect gift for your health conscious (or overweight) friends!\n",
      "<span class=\"excitingNote\">Now with super-colorful bell peppers!</span>\n",
      "</td><td>\n",
      "$15.00\n",
      "</td><td>\n",
      "<img src=\"../img/gifts/img1.jpg\">\n",
      "</img></td></tr>\n",
      "\n",
      "\n",
      "<tr class=\"gift\" id=\"gift2\"><td>\n",
      "Russian Nesting Dolls\n",
      "</td><td>\n",
      "Hand-painted by trained monkeys, these exquisite dolls are priceless! And by \"priceless,\" we mean \"extremely expensive\"! <span class=\"excitingNote\">8 entire dolls per set! Octuple the presents!</span>\n",
      "</td><td>\n",
      "$10,000.52\n",
      "</td><td>\n",
      "<img src=\"../img/gifts/img2.jpg\">\n",
      "</img></td></tr>\n",
      "\n",
      "\n",
      "<tr class=\"gift\" id=\"gift3\"><td>\n",
      "Fish Painting\n",
      "</td><td>\n",
      "If something seems fishy about this painting, it's because it's a fish! <span class=\"excitingNote\">Also hand-painted by trained monkeys!</span>\n",
      "</td><td>\n",
      "$10,005.00\n",
      "</td><td>\n",
      "<img src=\"../img/gifts/img3.jpg\">\n",
      "</img></td></tr>\n",
      "\n",
      "\n",
      "<tr class=\"gift\" id=\"gift4\"><td>\n",
      "Dead Parrot\n",
      "</td><td>\n",
      "This is an ex-parrot! <span class=\"excitingNote\">Or maybe he's only resting?</span>\n",
      "</td><td>\n",
      "$0.50\n",
      "</td><td>\n",
      "<img src=\"../img/gifts/img4.jpg\">\n",
      "</img></td></tr>\n",
      "\n",
      "\n",
      "<tr class=\"gift\" id=\"gift5\"><td>\n",
      "Mystery Box\n",
      "</td><td>\n",
      "If you love suprises, this mystery box is for you! Do not place on light-colored surfaces. May cause oil staining. <span class=\"excitingNote\">Keep your friends guessing!</span>\n",
      "</td><td>\n",
      "$1.50\n",
      "</td><td>\n",
      "<img src=\"../img/gifts/img6.jpg\">\n",
      "</img></td></tr>\n",
      "\n",
      "\n"
     ]
    }
   ],
   "source": [
    "for child in bsobj.find('table', {'id': 'giftList'}).children:\n",
    "    print(child)"
   ]
  },
  {
   "cell_type": "markdown",
   "metadata": {},
   "source": [
    "형제 다루기 (42페이지)  \n",
    "타이틀 행을 제외하고 모든 제품 행(row)을 출력한다  \n",
    "지금은 타이틀 행을 선택하였으므로 이 행만 제외하고 뒤의 행들을 긁어온다  \n",
    "(바로 위 소스를 보면 tr로 시작하는 각 항목 중에서 첫번째 tr(타이틀 행)이 선택 되었으므로 형제는 그 아래의 항목들이다)  "
   ]
  },
  {
   "cell_type": "code",
   "execution_count": 131,
   "metadata": {
    "collapsed": false
   },
   "outputs": [
    {
     "name": "stdout",
     "output_type": "stream",
     "text": [
      "\n",
      "\n",
      "<tr class=\"gift\" id=\"gift1\"><td>\n",
      "Vegetable Basket\n",
      "</td><td>\n",
      "This vegetable basket is the perfect gift for your health conscious (or overweight) friends!\n",
      "<span class=\"excitingNote\">Now with super-colorful bell peppers!</span>\n",
      "</td><td>\n",
      "$15.00\n",
      "</td><td>\n",
      "<img src=\"../img/gifts/img1.jpg\">\n",
      "</img></td></tr>\n",
      "\n",
      "\n",
      "<tr class=\"gift\" id=\"gift2\"><td>\n",
      "Russian Nesting Dolls\n",
      "</td><td>\n",
      "Hand-painted by trained monkeys, these exquisite dolls are priceless! And by \"priceless,\" we mean \"extremely expensive\"! <span class=\"excitingNote\">8 entire dolls per set! Octuple the presents!</span>\n",
      "</td><td>\n",
      "$10,000.52\n",
      "</td><td>\n",
      "<img src=\"../img/gifts/img2.jpg\">\n",
      "</img></td></tr>\n",
      "\n",
      "\n",
      "<tr class=\"gift\" id=\"gift3\"><td>\n",
      "Fish Painting\n",
      "</td><td>\n",
      "If something seems fishy about this painting, it's because it's a fish! <span class=\"excitingNote\">Also hand-painted by trained monkeys!</span>\n",
      "</td><td>\n",
      "$10,005.00\n",
      "</td><td>\n",
      "<img src=\"../img/gifts/img3.jpg\">\n",
      "</img></td></tr>\n",
      "\n",
      "\n",
      "<tr class=\"gift\" id=\"gift4\"><td>\n",
      "Dead Parrot\n",
      "</td><td>\n",
      "This is an ex-parrot! <span class=\"excitingNote\">Or maybe he's only resting?</span>\n",
      "</td><td>\n",
      "$0.50\n",
      "</td><td>\n",
      "<img src=\"../img/gifts/img4.jpg\">\n",
      "</img></td></tr>\n",
      "\n",
      "\n",
      "<tr class=\"gift\" id=\"gift5\"><td>\n",
      "Mystery Box\n",
      "</td><td>\n",
      "If you love suprises, this mystery box is for you! Do not place on light-colored surfaces. May cause oil staining. <span class=\"excitingNote\">Keep your friends guessing!</span>\n",
      "</td><td>\n",
      "$1.50\n",
      "</td><td>\n",
      "<img src=\"../img/gifts/img6.jpg\">\n",
      "</img></td></tr>\n",
      "\n",
      "\n"
     ]
    }
   ],
   "source": [
    "for sibling in bsobj.find('table',{'id':'giftList'}).tr.next_siblings:\n",
    "    print(sibling)"
   ]
  },
  {
   "cell_type": "markdown",
   "metadata": {},
   "source": [
    "위 결과를 보면 td 아래에 img가 있으므로 parent에 의해 td를 가리키고 td의 형제 중에 앞에 있는 형제 출력    \n",
    "'bsobj.find('img', {'src':'../img/gifts/img1.jpg'})'는 img 태그를 찾고 이 태그의 속성이 src=...인 것을 찾는 것임  "
   ]
  },
  {
   "cell_type": "code",
   "execution_count": 148,
   "metadata": {
    "collapsed": false
   },
   "outputs": [
    {
     "name": "stdout",
     "output_type": "stream",
     "text": [
      "\n",
      "$15.00\n",
      "\n"
     ]
    }
   ],
   "source": [
    "print ( bsobj.find('img', {'src':'../img/gifts/img1.jpg'}).parent.previous_sibling.get_text() )"
   ]
  },
  {
   "cell_type": "markdown",
   "metadata": {},
   "source": [
    "##### BeatifulSoup로 긁어오면 2가지 타입의 결과물이 나옴\n",
    "(1) Tag  \n",
    "(2) ResultSet = Tag의 집합  \n",
    "  \n",
    "findAll(..)은 리턴이 [..]이고 ResultSet라고 불리는 리스트(Tag의 집합)이다.  \n",
    "bsobj.body.h1과 같이 직접 속성으로 값을 받으면 Tag가 리턴된다.   "
   ]
  },
  {
   "cell_type": "code",
   "execution_count": 149,
   "metadata": {
    "collapsed": false
   },
   "outputs": [
    {
     "name": "stdout",
     "output_type": "stream",
     "text": [
      "<h1>Totally Normal Gifts</h1>\n",
      "<class 'bs4.element.Tag'>\n"
     ]
    }
   ],
   "source": [
    "print bsobj.body.h1\n",
    "print type(bsobj.body.h1)"
   ]
  },
  {
   "cell_type": "markdown",
   "metadata": {},
   "source": [
    "다음의 결과를 보면 출력이 [...]로 표현되어 있다. 즉, 리스트이다.  "
   ]
  },
  {
   "cell_type": "code",
   "execution_count": 134,
   "metadata": {
    "collapsed": false
   },
   "outputs": [
    {
     "name": "stdout",
     "output_type": "stream",
     "text": [
      "[<tr class=\"gift\" id=\"gift1\"><td>\\nVegetable Basket\\n</td><td>\\nThis vegetable basket is the perfect gift for your health conscious (or overweight) friends!\\n<span class=\"excitingNote\">Now with super-colorful bell peppers!</span>\\n</td><td>\\n$15.00\\n</td><td>\\n<img src=\"../img/gifts/img1.jpg\">\\n</img></td></tr>]\n"
     ]
    }
   ],
   "source": [
    "print bsobj.find('table', {'id': 'giftList'}).findAll('tr',{'id':'gift1'})"
   ]
  },
  {
   "cell_type": "markdown",
   "metadata": {},
   "source": [
    "직접 확인해 보면 아래 bbb의 타입은 ResultSet로 리스트이다  \n",
    "길이는 1이다  \n",
    "리스트 내의 값은 Tag이다  "
   ]
  },
  {
   "cell_type": "code",
   "execution_count": 150,
   "metadata": {
    "collapsed": false
   },
   "outputs": [
    {
     "name": "stdout",
     "output_type": "stream",
     "text": [
      "<class 'bs4.element.ResultSet'>\n",
      "1\n",
      "[<tr class=\"gift\" id=\"gift1\"><td>\\nVegetable Basket\\n</td><td>\\nThis vegetable basket is the perfect gift for your health conscious (or overweight) friends!\\n<span class=\"excitingNote\">Now with super-colorful bell peppers!</span>\\n</td><td>\\n$15.00\\n</td><td>\\n<img src=\"../img/gifts/img1.jpg\">\\n</img></td></tr>]\n",
      "<class 'bs4.element.Tag'> \n",
      "\n",
      "<tr class=\"gift\" id=\"gift1\"><td>\n",
      "Vegetable Basket\n",
      "</td><td>\n",
      "This vegetable basket is the perfect gift for your health conscious (or overweight) friends!\n",
      "<span class=\"excitingNote\">Now with super-colorful bell peppers!</span>\n",
      "</td><td>\n",
      "$15.00\n",
      "</td><td>\n",
      "<img src=\"../img/gifts/img1.jpg\">\n",
      "</img></td></tr>\n"
     ]
    }
   ],
   "source": [
    "bbb = bsobj.find('table', {'id': 'giftList'}).findAll('tr',{'id':'gift1'}) \n",
    "\n",
    "print type(bbb)\n",
    "print len(bbb)\n",
    "print bbb\n",
    "print type(bbb[0]), '\\n'\n",
    "print bbb[0]"
   ]
  },
  {
   "cell_type": "markdown",
   "metadata": {},
   "source": [
    "만일 객체가 Tag라면 findAll이나 tag속성 둘 다를 사용할 수 있다  \n",
    "단, Tag객체를 사용하면 리턴값도 Tag이다  "
   ]
  },
  {
   "cell_type": "code",
   "execution_count": 151,
   "metadata": {
    "collapsed": false
   },
   "outputs": [
    {
     "name": "stdout",
     "output_type": "stream",
     "text": [
      "<class 'bs4.element.Tag'>\n",
      "<class 'bs4.element.ResultSet'> \n",
      "\n",
      "[<td>\\nVegetable Basket\\n</td>, <td>\\nThis vegetable basket is the perfect gift for your health conscious (or overweight) friends!\\n<span class=\"excitingNote\">Now with super-colorful bell peppers!</span>\\n</td>, <td>\\n$15.00\\n</td>, <td>\\n<img src=\"../img/gifts/img1.jpg\">\\n</img></td>]\n"
     ]
    }
   ],
   "source": [
    "print type(bbb[0].td)\n",
    "tag_or_resultset = bbb[0].findAll('td')\n",
    "\n",
    "print type(tag_or_resultset), '\\n' \n",
    "print tag_or_resultset"
   ]
  },
  {
   "cell_type": "markdown",
   "metadata": {},
   "source": [
    "리스트를 루프돌려 하나씩 출력해 본다"
   ]
  },
  {
   "cell_type": "code",
   "execution_count": 152,
   "metadata": {
    "collapsed": false
   },
   "outputs": [
    {
     "name": "stdout",
     "output_type": "stream",
     "text": [
      "<td>\n",
      "Vegetable Basket\n",
      "</td> \n",
      "\n",
      "<td>\n",
      "This vegetable basket is the perfect gift for your health conscious (or overweight) friends!\n",
      "<span class=\"excitingNote\">Now with super-colorful bell peppers!</span>\n",
      "</td> \n",
      "\n",
      "<td>\n",
      "$15.00\n",
      "</td> \n",
      "\n",
      "<td>\n",
      "<img src=\"../img/gifts/img1.jpg\">\n",
      "</img></td> \n",
      "\n"
     ]
    }
   ],
   "source": [
    "for tag_res in tag_or_resultset:\n",
    "    print (tag_res), '\\n'"
   ]
  },
  {
   "cell_type": "markdown",
   "metadata": {},
   "source": [
    "세번쨰 요소의 자식 속성 중에 img 태그를 가진 것을 취한다   "
   ]
  },
  {
   "cell_type": "code",
   "execution_count": 211,
   "metadata": {
    "collapsed": false
   },
   "outputs": [
    {
     "name": "stdout",
     "output_type": "stream",
     "text": [
      "[<img src=\"../img/gifts/img1.jpg\">\\n</img>]\n",
      "<class 'bs4.element.ResultSet'>\n"
     ]
    }
   ],
   "source": [
    "imgtag = tag_or_resultset[3].findAll('img')\n",
    "print imgtag\n",
    "print type(imgtag)"
   ]
  },
  {
   "cell_type": "markdown",
   "metadata": {},
   "source": [
    "##### Get tag value\n",
    "요소가 하나 밖에 없고 태그의 값을 얻고 싶을 경우"
   ]
  },
  {
   "cell_type": "code",
   "execution_count": 212,
   "metadata": {
    "collapsed": false
   },
   "outputs": [
    {
     "name": "stdout",
     "output_type": "stream",
     "text": [
      "../img/gifts/img1.jpg\n"
     ]
    }
   ],
   "source": [
    "print imgtag[0]['src']"
   ]
  },
  {
   "cell_type": "markdown",
   "metadata": {},
   "source": [
    "--------------------"
   ]
  },
  {
   "cell_type": "markdown",
   "metadata": {},
   "source": [
    "## 이제 모든 것을 정리해서 테스트해보자   "
   ]
  },
  {
   "cell_type": "code",
   "execution_count": 157,
   "metadata": {
    "collapsed": false
   },
   "outputs": [
    {
     "name": "stdout",
     "output_type": "stream",
     "text": [
      "<html>\n",
      "<head>\n",
      "<style>\n",
      "img{\n",
      "\twidth:75px;\n",
      "}\n",
      "table{\n",
      "\twidth:50%;\n",
      "}\n",
      "td{\n",
      "\tmargin:10px;\n",
      "\tpadding:10px;\n",
      "}\n",
      ".wrapper{\n",
      "\twidth:800px;\n",
      "}\n",
      ".excitingNote{\n",
      "\tfont-style:italic;\n",
      "\tfont-weight:bold;\n",
      "}\n",
      "</style>\n",
      "</head>\n",
      "<body>\n",
      "<div id=\"wrapper\">\n",
      "<img src=\"../img/gifts/logo.jpg\" style=\"float:left;\">\n",
      "<h1>Totally Normal Gifts</h1>\n",
      "<div id=\"content\">Here is a collection of totally normal, totally reasonable gifts that your friends are sure to love! Our collection is\n",
      "hand-curated by well-paid, free-range Tibetan monks.<p>\n",
      "We haven't figured out how to make online shopping carts yet, but you can send us a check to:<br>\n",
      "123 Main St.<br>\n",
      "Abuja, Nigeria\n",
      "</br>We will then send your totally amazing gift, pronto! Please include an extra $5.00 for gift wrapping.</br></p></div>\n",
      "<table id=\"giftList\">\n",
      "<tr><th>\n",
      "Item Title\n",
      "</th><th>\n",
      "Description\n",
      "</th><th>\n",
      "Cost\n",
      "</th><th>\n",
      "Image\n",
      "</th></tr>\n",
      "<tr class=\"gift\" id=\"gift1\"><td>\n",
      "Vegetable Basket\n",
      "</td><td>\n",
      "This vegetable basket is the perfect gift for your health conscious (or overweight) friends!\n",
      "<span class=\"excitingNote\">Now with super-colorful bell peppers!</span>\n",
      "</td><td>\n",
      "$15.00\n",
      "</td><td>\n",
      "<img src=\"../img/gifts/img1.jpg\">\n",
      "</img></td></tr>\n",
      "<tr class=\"gift\" id=\"gift2\"><td>\n",
      "Russian Nesting Dolls\n",
      "</td><td>\n",
      "Hand-painted by trained monkeys, these exquisite dolls are priceless! And by \"priceless,\" we mean \"extremely expensive\"! <span class=\"excitingNote\">8 entire dolls per set! Octuple the presents!</span>\n",
      "</td><td>\n",
      "$10,000.52\n",
      "</td><td>\n",
      "<img src=\"../img/gifts/img2.jpg\">\n",
      "</img></td></tr>\n",
      "<tr class=\"gift\" id=\"gift3\"><td>\n",
      "Fish Painting\n",
      "</td><td>\n",
      "If something seems fishy about this painting, it's because it's a fish! <span class=\"excitingNote\">Also hand-painted by trained monkeys!</span>\n",
      "</td><td>\n",
      "$10,005.00\n",
      "</td><td>\n",
      "<img src=\"../img/gifts/img3.jpg\">\n",
      "</img></td></tr>\n",
      "<tr class=\"gift\" id=\"gift4\"><td>\n",
      "Dead Parrot\n",
      "</td><td>\n",
      "This is an ex-parrot! <span class=\"excitingNote\">Or maybe he's only resting?</span>\n",
      "</td><td>\n",
      "$0.50\n",
      "</td><td>\n",
      "<img src=\"../img/gifts/img4.jpg\">\n",
      "</img></td></tr>\n",
      "<tr class=\"gift\" id=\"gift5\"><td>\n",
      "Mystery Box\n",
      "</td><td>\n",
      "If you love suprises, this mystery box is for you! Do not place on light-colored surfaces. May cause oil staining. <span class=\"excitingNote\">Keep your friends guessing!</span>\n",
      "</td><td>\n",
      "$1.50\n",
      "</td><td>\n",
      "<img src=\"../img/gifts/img6.jpg\">\n",
      "</img></td></tr>\n",
      "</table>\n",
      "</img></div></body></html>\n",
      "<div id=\"footer\">\n",
      "© Totally Normal Gifts, Inc. <br>\n",
      "+234 (617) 863-0736\n",
      "</br></div>\n",
      "\n",
      "\n",
      "\n",
      "\n"
     ]
    }
   ],
   "source": [
    "print bsobj"
   ]
  },
  {
   "cell_type": "code",
   "execution_count": 159,
   "metadata": {
    "collapsed": false
   },
   "outputs": [
    {
     "name": "stdout",
     "output_type": "stream",
     "text": [
      "<h1>Totally Normal Gifts</h1>\n"
     ]
    }
   ],
   "source": [
    "print bsobj.body.div.h1"
   ]
  },
  {
   "cell_type": "code",
   "execution_count": 163,
   "metadata": {
    "collapsed": false
   },
   "outputs": [
    {
     "name": "stdout",
     "output_type": "stream",
     "text": [
      "<table id=\"giftList\">\n",
      "<tr><th>\n",
      "Item Title\n",
      "</th><th>\n",
      "Description\n",
      "</th><th>\n",
      "Cost\n",
      "</th><th>\n",
      "Image\n",
      "</th></tr>\n",
      "<tr class=\"gift\" id=\"gift1\"><td>\n",
      "Vegetable Basket\n",
      "</td><td>\n",
      "This vegetable basket is the perfect gift for your health conscious (or overweight) friends!\n",
      "<span class=\"excitingNote\">Now with super-colorful bell peppers!</span>\n",
      "</td><td>\n",
      "$15.00\n",
      "</td><td>\n",
      "<img src=\"../img/gifts/img1.jpg\">\n",
      "</img></td></tr>\n",
      "<tr class=\"gift\" id=\"gift2\"><td>\n",
      "Russian Nesting Dolls\n",
      "</td><td>\n",
      "Hand-painted by trained monkeys, these exquisite dolls are priceless! And by \"priceless,\" we mean \"extremely expensive\"! <span class=\"excitingNote\">8 entire dolls per set! Octuple the presents!</span>\n",
      "</td><td>\n",
      "$10,000.52\n",
      "</td><td>\n",
      "<img src=\"../img/gifts/img2.jpg\">\n",
      "</img></td></tr>\n",
      "<tr class=\"gift\" id=\"gift3\"><td>\n",
      "Fish Painting\n",
      "</td><td>\n",
      "If something seems fishy about this painting, it's because it's a fish! <span class=\"excitingNote\">Also hand-painted by trained monkeys!</span>\n",
      "</td><td>\n",
      "$10,005.00\n",
      "</td><td>\n",
      "<img src=\"../img/gifts/img3.jpg\">\n",
      "</img></td></tr>\n",
      "<tr class=\"gift\" id=\"gift4\"><td>\n",
      "Dead Parrot\n",
      "</td><td>\n",
      "This is an ex-parrot! <span class=\"excitingNote\">Or maybe he's only resting?</span>\n",
      "</td><td>\n",
      "$0.50\n",
      "</td><td>\n",
      "<img src=\"../img/gifts/img4.jpg\">\n",
      "</img></td></tr>\n",
      "<tr class=\"gift\" id=\"gift5\"><td>\n",
      "Mystery Box\n",
      "</td><td>\n",
      "If you love suprises, this mystery box is for you! Do not place on light-colored surfaces. May cause oil staining. <span class=\"excitingNote\">Keep your friends guessing!</span>\n",
      "</td><td>\n",
      "$1.50\n",
      "</td><td>\n",
      "<img src=\"../img/gifts/img6.jpg\">\n",
      "</img></td></tr>\n",
      "</table>\n"
     ]
    }
   ],
   "source": [
    "print bsobj.body.table #table 태그로 포함된 모든 값을 출력(결과물은 태그)"
   ]
  },
  {
   "cell_type": "code",
   "execution_count": 164,
   "metadata": {
    "collapsed": false
   },
   "outputs": [
    {
     "name": "stdout",
     "output_type": "stream",
     "text": [
      "[<tr><th>\\nItem Title\\n</th><th>\\nDescription\\n</th><th>\\nCost\\n</th><th>\\nImage\\n</th></tr>, <tr class=\"gift\" id=\"gift1\"><td>\\nVegetable Basket\\n</td><td>\\nThis vegetable basket is the perfect gift for your health conscious (or overweight) friends!\\n<span class=\"excitingNote\">Now with super-colorful bell peppers!</span>\\n</td><td>\\n$15.00\\n</td><td>\\n<img src=\"../img/gifts/img1.jpg\">\\n</img></td></tr>, <tr class=\"gift\" id=\"gift2\"><td>\\nRussian Nesting Dolls\\n</td><td>\\nHand-painted by trained monkeys, these exquisite dolls are priceless! And by \"priceless,\" we mean \"extremely expensive\"! <span class=\"excitingNote\">8 entire dolls per set! Octuple the presents!</span>\\n</td><td>\\n$10,000.52\\n</td><td>\\n<img src=\"../img/gifts/img2.jpg\">\\n</img></td></tr>, <tr class=\"gift\" id=\"gift3\"><td>\\nFish Painting\\n</td><td>\\nIf something seems fishy about this painting, it's because it's a fish! <span class=\"excitingNote\">Also hand-painted by trained monkeys!</span>\\n</td><td>\\n$10,005.00\\n</td><td>\\n<img src=\"../img/gifts/img3.jpg\">\\n</img></td></tr>, <tr class=\"gift\" id=\"gift4\"><td>\\nDead Parrot\\n</td><td>\\nThis is an ex-parrot! <span class=\"excitingNote\">Or maybe he's only resting?</span>\\n</td><td>\\n$0.50\\n</td><td>\\n<img src=\"../img/gifts/img4.jpg\">\\n</img></td></tr>, <tr class=\"gift\" id=\"gift5\"><td>\\nMystery Box\\n</td><td>\\nIf you love suprises, this mystery box is for you! Do not place on light-colored surfaces. May cause oil staining. <span class=\"excitingNote\">Keep your friends guessing!</span>\\n</td><td>\\n$1.50\\n</td><td>\\n<img src=\"../img/gifts/img6.jpg\">\\n</img></td></tr>]\n"
     ]
    }
   ],
   "source": [
    "print bsobj.body.table.findAll('tr') #결과물 중에서 tr태그을 가진 부분만 출력(결과는 리스트)"
   ]
  },
  {
   "cell_type": "markdown",
   "metadata": {},
   "source": [
    "타이틀 부분까지 포함해서 모두 6개의 행이 있다  "
   ]
  },
  {
   "cell_type": "code",
   "execution_count": 165,
   "metadata": {
    "collapsed": false
   },
   "outputs": [
    {
     "name": "stdout",
     "output_type": "stream",
     "text": [
      "6\n"
     ]
    }
   ],
   "source": [
    "print len(bsobj.body.table.findAll('tr'))"
   ]
  },
  {
   "cell_type": "code",
   "execution_count": 213,
   "metadata": {
    "collapsed": false
   },
   "outputs": [
    {
     "name": "stdout",
     "output_type": "stream",
     "text": [
      "<tr class=\"gift\" id=\"gift5\"><td>\n",
      "Mystery Box\n",
      "</td><td>\n",
      "If you love suprises, this mystery box is for you! Do not place on light-colored surfaces. May cause oil staining. <span class=\"excitingNote\">Keep your friends guessing!</span>\n",
      "</td><td>\n",
      "$1.50\n",
      "</td><td>\n",
      "<img src=\"../img/gifts/img6.jpg\">\n",
      "</img></td></tr>\n"
     ]
    }
   ],
   "source": [
    "print bsobj.body.table.findAll('tr')[5]  #요소를 가리키므로 태그이다 "
   ]
  },
  {
   "cell_type": "markdown",
   "metadata": {},
   "source": [
    "~findAll('tr')[5]까지는 태그이므로 직접 속성을 붙일 수 있어 .img로 접근하고, 내부의 이미지 값이 궁굼하므로  \n",
    "결과에 ['src']속성을 주면 이미지 경로가 나온다  "
   ]
  },
  {
   "cell_type": "code",
   "execution_count": 169,
   "metadata": {
    "collapsed": false
   },
   "outputs": [
    {
     "name": "stdout",
     "output_type": "stream",
     "text": [
      "../img/gifts/img6.jpg\n"
     ]
    }
   ],
   "source": [
    "print bsobj.body.table.findAll('tr')[5].img['src']"
   ]
  },
  {
   "cell_type": "markdown",
   "metadata": {},
   "source": [
    "table Tag가 가지고 있는 속성의 출력"
   ]
  },
  {
   "cell_type": "code",
   "execution_count": 202,
   "metadata": {
    "collapsed": false
   },
   "outputs": [
    {
     "name": "stdout",
     "output_type": "stream",
     "text": [
      "{u'id': u'giftList'}\n"
     ]
    }
   ],
   "source": [
    "print bsobj.body.table.attrs\n"
   ]
  },
  {
   "cell_type": "code",
   "execution_count": 203,
   "metadata": {
    "collapsed": false
   },
   "outputs": [
    {
     "name": "stdout",
     "output_type": "stream",
     "text": [
      "<tr class=\"gift\" id=\"gift5\"><td>\n",
      "Mystery Box\n",
      "</td><td>\n",
      "If you love suprises, this mystery box is for you! Do not place on light-colored surfaces. May cause oil staining. <span class=\"excitingNote\">Keep your friends guessing!</span>\n",
      "</td><td>\n",
      "$1.50\n",
      "</td><td>\n",
      "<img src=\"../img/gifts/img6.jpg\">\n",
      "</img></td></tr>\n"
     ]
    }
   ],
   "source": [
    "print bsobj.body.table.findAll('tr')[5]"
   ]
  },
  {
   "cell_type": "markdown",
   "metadata": {},
   "source": [
    "위 결과를 보면 tr 태그의 속성이 2개가 있다. 이 속성들을 출력  "
   ]
  },
  {
   "cell_type": "code",
   "execution_count": 204,
   "metadata": {
    "collapsed": false
   },
   "outputs": [
    {
     "name": "stdout",
     "output_type": "stream",
     "text": [
      "{u'id': u'gift5', u'class': [u'gift']}\n"
     ]
    }
   ],
   "source": [
    "print bsobj.body.table.findAll('tr')[5].attrs"
   ]
  },
  {
   "cell_type": "markdown",
   "metadata": {},
   "source": [
    "##### 람다 표현식  (2.6절) \n",
    "다른 함수에 변수로 전달되는 함수. f(x,y) -> f(g(x),y)로 f함수는 인자로 함수를 수용 가능해야 함  \n",
    "속성이 2개인 태그를 가진 것을 긁어옴  "
   ]
  },
  {
   "cell_type": "code",
   "execution_count": 205,
   "metadata": {
    "collapsed": false
   },
   "outputs": [
    {
     "name": "stdout",
     "output_type": "stream",
     "text": [
      "5\n"
     ]
    }
   ],
   "source": [
    "multiattr = bsobj.body.table.findAll(lambda tag: len(tag.attrs) == 2) \n",
    "print len(multiattr)"
   ]
  },
  {
   "cell_type": "markdown",
   "metadata": {},
   "source": [
    "속성이 2개인 태그 중에서 3번째 출력  "
   ]
  },
  {
   "cell_type": "code",
   "execution_count": 206,
   "metadata": {
    "collapsed": false
   },
   "outputs": [
    {
     "name": "stdout",
     "output_type": "stream",
     "text": [
      "<tr class=\"gift\" id=\"gift3\"><td>\n",
      "Fish Painting\n",
      "</td><td>\n",
      "If something seems fishy about this painting, it's because it's a fish! <span class=\"excitingNote\">Also hand-painted by trained monkeys!</span>\n",
      "</td><td>\n",
      "$10,005.00\n",
      "</td><td>\n",
      "<img src=\"../img/gifts/img3.jpg\">\n",
      "</img></td></tr>\n"
     ]
    }
   ],
   "source": [
    "print multiattr[2]"
   ]
  },
  {
   "cell_type": "code",
   "execution_count": 207,
   "metadata": {
    "collapsed": false
   },
   "outputs": [
    {
     "data": {
      "text/plain": [
       "u'../img/gifts/img3.jpg'"
      ]
     },
     "execution_count": 207,
     "metadata": {},
     "output_type": "execute_result"
    }
   ],
   "source": [
    "multiattr[2].img['src']"
   ]
  },
  {
   "cell_type": "markdown",
   "metadata": {},
   "source": [
    "##### 정규 표현식을 이용해 이미지만 긁어옴  (2.4절)  \n",
    "\n",
    "img.* 는 img 뒤에 문자 하나(숫자,문자,공백)가 0번 이상 반복  "
   ]
  },
  {
   "cell_type": "code",
   "execution_count": 208,
   "metadata": {
    "collapsed": false
   },
   "outputs": [],
   "source": [
    "import re\n",
    "images = bsobj.findAll('img', {'src': re.compile('\\.\\.\\/img\\/gifts\\/img.*\\.jpg')})"
   ]
  },
  {
   "cell_type": "code",
   "execution_count": 209,
   "metadata": {
    "collapsed": false
   },
   "outputs": [
    {
     "name": "stdout",
     "output_type": "stream",
     "text": [
      "../img/gifts/img1.jpg\n",
      "../img/gifts/img2.jpg\n",
      "../img/gifts/img3.jpg\n",
      "../img/gifts/img4.jpg\n",
      "../img/gifts/img6.jpg\n"
     ]
    }
   ],
   "source": [
    "for image in images:\n",
    "    print image['src']"
   ]
  }
 ],
 "metadata": {
  "kernelspec": {
   "display_name": "Python 2",
   "language": "python",
   "name": "python2"
  },
  "language_info": {
   "codemirror_mode": {
    "name": "ipython",
    "version": 2
   },
   "file_extension": ".py",
   "mimetype": "text/x-python",
   "name": "python",
   "nbconvert_exporter": "python",
   "pygments_lexer": "ipython2",
   "version": "2.7.12"
  }
 },
 "nbformat": 4,
 "nbformat_minor": 0
}
